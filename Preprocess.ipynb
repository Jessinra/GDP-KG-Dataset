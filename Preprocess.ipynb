{
 "cells": [
  {
   "cell_type": "markdown",
   "metadata": {},
   "source": [
    "# Create user oriented table\n",
    "\n",
    "Change rating data format"
   ]
  },
  {
   "cell_type": "code",
   "execution_count": 1,
   "metadata": {},
   "outputs": [],
   "source": [
    "import pandas as pd\n",
    "import numpy as np\n",
    "import matplotlib.pyplot as plt\n",
    "\n",
    "from sklearn.model_selection import train_test_split\n",
    "from sklearn.metrics import mean_squared_error as MSE"
   ]
  },
  {
   "cell_type": "markdown",
   "metadata": {},
   "source": [
    "## Preprocessing data"
   ]
  },
  {
   "cell_type": "code",
   "execution_count": 2,
   "metadata": {},
   "outputs": [],
   "source": [
    "ml_rating_filename = \"ratings_re2.csv\"\n",
    "ml_ratings = pd.read_csv(ml_rating_filename, names=[\"userId\", \"movieId\", \"rating\", \"timestamp\"])\n",
    "ml_ratings = ml_ratings[[\"userId\", \"movieId\", \"rating\"]]\n",
    "\n",
    "# Groupby -> mean, \n",
    "ml_ratings['rating'] = ml_ratings.groupby(['userId', 'movieId'])['rating'].transform('mean') \n",
    "ml_ratings = ml_ratings.drop_duplicates()"
   ]
  },
  {
   "cell_type": "markdown",
   "metadata": {},
   "source": [
    "ml_ratings.to_csv(\"ratings_re.csv\", index=False, header=False)"
   ]
  },
  {
   "cell_type": "markdown",
   "metadata": {},
   "source": [
    "some duplicate occur !!!! :("
   ]
  },
  {
   "cell_type": "markdown",
   "metadata": {},
   "source": [
    "### Change pivot to user centric"
   ]
  },
  {
   "cell_type": "code",
   "execution_count": 3,
   "metadata": {},
   "outputs": [],
   "source": [
    "from scipy.sparse import csr_matrix\n",
    "from pandas.api.types import CategoricalDtype"
   ]
  },
  {
   "cell_type": "code",
   "execution_count": 4,
   "metadata": {},
   "outputs": [],
   "source": [
    "movie_list = open(\"moviesIdx2.txt\").readlines()"
   ]
  },
  {
   "cell_type": "code",
   "execution_count": 5,
   "metadata": {},
   "outputs": [],
   "source": [
    "user_c = CategoricalDtype(sorted(ml_ratings.userId.unique()), ordered=True)\n",
    "movie_c = CategoricalDtype(sorted(ml_ratings.movieId.unique()), ordered=True)\n",
    "# movie_c = CategoricalDtype([i for i in range(0, len(movie_list))]) #some movie has no rating at all"
   ]
  },
  {
   "cell_type": "code",
   "execution_count": 6,
   "metadata": {},
   "outputs": [],
   "source": [
    "# Preparation to make pivot table\n",
    "\n",
    "row = ml_ratings.userId.astype(user_c).cat.codes\n",
    "col = ml_ratings.movieId.astype(movie_c).cat.codes\n",
    "sparse_matrix = csr_matrix((ml_ratings[\"rating\"], (row, col)),\n",
    "                           shape=(user_c.categories.size, movie_c.categories.size))"
   ]
  },
  {
   "cell_type": "code",
   "execution_count": 7,
   "metadata": {},
   "outputs": [
    {
     "data": {
      "text/plain": [
       "<138493x15085 sparse matrix of type '<class 'numpy.float64'>'\n",
       "\twith 14094614 stored elements in Compressed Sparse Row format>"
      ]
     },
     "execution_count": 7,
     "metadata": {},
     "output_type": "execute_result"
    }
   ],
   "source": [
    "sparse_matrix"
   ]
  },
  {
   "cell_type": "markdown",
   "metadata": {},
   "source": [
    "### find list of movie without rating"
   ]
  },
  {
   "cell_type": "code",
   "execution_count": 8,
   "metadata": {},
   "outputs": [
    {
     "data": {
      "text/plain": [
       "[44,\n",
       " 143,\n",
       " 157,\n",
       " 198,\n",
       " 226,\n",
       " 229,\n",
       " 236,\n",
       " 237,\n",
       " 286,\n",
       " 348,\n",
       " 397,\n",
       " 401,\n",
       " 467,\n",
       " 473,\n",
       " 521,\n",
       " 535,\n",
       " 551,\n",
       " 567,\n",
       " 574,\n",
       " 614,\n",
       " 661,\n",
       " 666,\n",
       " 717,\n",
       " 739,\n",
       " 755,\n",
       " 757,\n",
       " 761,\n",
       " 770,\n",
       " 801,\n",
       " 845,\n",
       " 849,\n",
       " 865,\n",
       " 875,\n",
       " 918,\n",
       " 992,\n",
       " 998,\n",
       " 1162,\n",
       " 1166,\n",
       " 1283,\n",
       " 1336,\n",
       " 1372,\n",
       " 1497,\n",
       " 1549,\n",
       " 1562,\n",
       " 1565,\n",
       " 1570,\n",
       " 1582,\n",
       " 1591,\n",
       " 1747,\n",
       " 1764,\n",
       " 1805,\n",
       " 1851,\n",
       " 1859,\n",
       " 1869,\n",
       " 1875,\n",
       " 1887,\n",
       " 1960,\n",
       " 1987,\n",
       " 1997,\n",
       " 2028,\n",
       " 2030,\n",
       " 2133,\n",
       " 2141,\n",
       " 2194,\n",
       " 2212,\n",
       " 2256,\n",
       " 2297,\n",
       " 2377,\n",
       " 2390,\n",
       " 2447,\n",
       " 2484,\n",
       " 2507,\n",
       " 2578,\n",
       " 2607,\n",
       " 2645,\n",
       " 2647,\n",
       " 2677,\n",
       " 2697,\n",
       " 2812,\n",
       " 2856,\n",
       " 3007,\n",
       " 3019,\n",
       " 3039,\n",
       " 3051,\n",
       " 3098,\n",
       " 3351,\n",
       " 3480,\n",
       " 3483,\n",
       " 3539,\n",
       " 3549,\n",
       " 3641,\n",
       " 3668,\n",
       " 3769,\n",
       " 3778,\n",
       " 3923,\n",
       " 3970,\n",
       " 4014,\n",
       " 4038,\n",
       " 4047,\n",
       " 4064,\n",
       " 4090,\n",
       " 4173,\n",
       " 4209,\n",
       " 4246,\n",
       " 4278,\n",
       " 4346,\n",
       " 4347,\n",
       " 4372,\n",
       " 4374,\n",
       " 4451,\n",
       " 4462,\n",
       " 4476,\n",
       " 4497,\n",
       " 4529,\n",
       " 4539,\n",
       " 4548,\n",
       " 4658,\n",
       " 4681,\n",
       " 4711,\n",
       " 4721,\n",
       " 4872,\n",
       " 4880,\n",
       " 4921,\n",
       " 5043,\n",
       " 5225,\n",
       " 5317,\n",
       " 5530,\n",
       " 5570,\n",
       " 5614,\n",
       " 5690,\n",
       " 5754,\n",
       " 5801,\n",
       " 5938,\n",
       " 6014,\n",
       " 6046,\n",
       " 6076,\n",
       " 6218,\n",
       " 6267,\n",
       " 6280,\n",
       " 6351,\n",
       " 6465,\n",
       " 6479,\n",
       " 6485,\n",
       " 6516,\n",
       " 6536,\n",
       " 6624,\n",
       " 6735,\n",
       " 6827,\n",
       " 6830,\n",
       " 6865,\n",
       " 7070,\n",
       " 7096,\n",
       " 7100,\n",
       " 7191,\n",
       " 7200,\n",
       " 7292,\n",
       " 7295,\n",
       " 7443,\n",
       " 7483,\n",
       " 7484,\n",
       " 7628,\n",
       " 7723,\n",
       " 7757,\n",
       " 7865,\n",
       " 7884,\n",
       " 8106,\n",
       " 8136,\n",
       " 8154,\n",
       " 8211,\n",
       " 8222,\n",
       " 8229,\n",
       " 8256,\n",
       " 8291,\n",
       " 8610,\n",
       " 8863,\n",
       " 8877,\n",
       " 8880,\n",
       " 8888,\n",
       " 8976,\n",
       " 9167,\n",
       " 9217,\n",
       " 9219,\n",
       " 9348,\n",
       " 9378,\n",
       " 9401,\n",
       " 9469,\n",
       " 9680,\n",
       " 9703,\n",
       " 9780,\n",
       " 9851,\n",
       " 9901,\n",
       " 9923,\n",
       " 9969,\n",
       " 10023,\n",
       " 10124,\n",
       " 10127,\n",
       " 10163,\n",
       " 10243,\n",
       " 10286,\n",
       " 10412,\n",
       " 10427,\n",
       " 10431,\n",
       " 10469,\n",
       " 10556,\n",
       " 10595,\n",
       " 10612,\n",
       " 10633,\n",
       " 10713,\n",
       " 10730,\n",
       " 10732,\n",
       " 10885,\n",
       " 10887,\n",
       " 10888,\n",
       " 10907,\n",
       " 11025,\n",
       " 11139,\n",
       " 11171,\n",
       " 11360,\n",
       " 11416,\n",
       " 11427,\n",
       " 11537,\n",
       " 11562,\n",
       " 11603,\n",
       " 11664,\n",
       " 11695,\n",
       " 11731,\n",
       " 11811,\n",
       " 11812,\n",
       " 11986,\n",
       " 12003,\n",
       " 12069,\n",
       " 12154,\n",
       " 12289,\n",
       " 12318,\n",
       " 12660,\n",
       " 12681,\n",
       " 12769,\n",
       " 12946,\n",
       " 12947,\n",
       " 13020,\n",
       " 13031,\n",
       " 13084,\n",
       " 13093,\n",
       " 13101,\n",
       " 13104,\n",
       " 13119,\n",
       " 13154,\n",
       " 13193,\n",
       " 13195,\n",
       " 13196,\n",
       " 13200,\n",
       " 13203,\n",
       " 13205,\n",
       " 13206,\n",
       " 13227,\n",
       " 13239,\n",
       " 13249,\n",
       " 13251,\n",
       " 13255,\n",
       " 13263,\n",
       " 13272,\n",
       " 13273,\n",
       " 13289,\n",
       " 13291,\n",
       " 13292,\n",
       " 13297,\n",
       " 13303,\n",
       " 13307,\n",
       " 13308,\n",
       " 13315,\n",
       " 13319,\n",
       " 13322,\n",
       " 13323,\n",
       " 13338,\n",
       " 13340,\n",
       " 13349,\n",
       " 13357,\n",
       " 13362,\n",
       " 13372,\n",
       " 13403,\n",
       " 13410,\n",
       " 13421,\n",
       " 13428,\n",
       " 13443,\n",
       " 13445,\n",
       " 13453,\n",
       " 13457,\n",
       " 13460,\n",
       " 13461,\n",
       " 13465,\n",
       " 13466,\n",
       " 13468,\n",
       " 13469,\n",
       " 13471,\n",
       " 13474,\n",
       " 13504,\n",
       " 13520,\n",
       " 13524,\n",
       " 13525,\n",
       " 13529,\n",
       " 13532,\n",
       " 13537,\n",
       " 13541,\n",
       " 13549,\n",
       " 13550,\n",
       " 13565,\n",
       " 13574,\n",
       " 13576,\n",
       " 13579,\n",
       " 13594,\n",
       " 13595,\n",
       " 13596,\n",
       " 13599,\n",
       " 13602,\n",
       " 13607,\n",
       " 13611,\n",
       " 13623,\n",
       " 13627,\n",
       " 13628,\n",
       " 13631,\n",
       " 13636,\n",
       " 13642,\n",
       " 13658,\n",
       " 13762,\n",
       " 13773,\n",
       " 13966,\n",
       " 13979,\n",
       " 13988,\n",
       " 13999,\n",
       " 14019,\n",
       " 14143,\n",
       " 14255,\n",
       " 14268,\n",
       " 14291,\n",
       " 14359,\n",
       " 14393,\n",
       " 14418,\n",
       " 14600,\n",
       " 14639,\n",
       " 14681,\n",
       " 14754,\n",
       " 14762,\n",
       " 14852,\n",
       " 14873,\n",
       " 14937,\n",
       " 14967,\n",
       " 15040,\n",
       " 15066,\n",
       " 15117,\n",
       " 15132,\n",
       " 15272,\n",
       " 15297,\n",
       " 15313,\n",
       " 15408,\n",
       " 15421,\n",
       " 15440,\n",
       " 15441,\n",
       " 15442,\n",
       " 15443,\n",
       " 15444,\n",
       " 15445,\n",
       " 15446,\n",
       " 15447,\n",
       " 15448,\n",
       " 15449,\n",
       " 15450,\n",
       " 15451,\n",
       " 15452,\n",
       " 15453,\n",
       " 15454,\n",
       " 15455,\n",
       " 15456,\n",
       " 15457,\n",
       " 15458,\n",
       " 15459,\n",
       " 15460,\n",
       " 15461,\n",
       " 15462,\n",
       " 15463,\n",
       " 15464,\n",
       " 15465,\n",
       " 15466,\n",
       " 15467,\n",
       " 15468,\n",
       " 15469,\n",
       " 15470,\n",
       " 15471,\n",
       " 15472,\n",
       " 15473,\n",
       " 15474,\n",
       " 15475,\n",
       " 15476,\n",
       " 15477,\n",
       " 15478,\n",
       " 15479,\n",
       " 15480,\n",
       " 15481,\n",
       " 15482,\n",
       " 15483,\n",
       " 15484,\n",
       " 15485,\n",
       " 15486,\n",
       " 15487,\n",
       " 15488,\n",
       " 15489,\n",
       " 15490,\n",
       " 15491,\n",
       " 15492,\n",
       " 15493,\n",
       " 15494,\n",
       " 15495,\n",
       " 15496,\n",
       " 15497,\n",
       " 15498,\n",
       " 15499,\n",
       " 15500,\n",
       " 15501,\n",
       " 15502,\n",
       " 15503,\n",
       " 15504,\n",
       " 15505,\n",
       " 15506,\n",
       " 15507,\n",
       " 15508,\n",
       " 15509,\n",
       " 15510,\n",
       " 15511,\n",
       " 15512,\n",
       " 15513,\n",
       " 15514,\n",
       " 15515,\n",
       " 15516,\n",
       " 15517,\n",
       " 15518,\n",
       " 15519,\n",
       " 15520,\n",
       " 15521,\n",
       " 15522,\n",
       " 15523,\n",
       " 15524,\n",
       " 15525,\n",
       " 15526,\n",
       " 15527,\n",
       " 15528,\n",
       " 15529,\n",
       " 15530,\n",
       " 15531]"
      ]
     },
     "execution_count": 8,
     "metadata": {},
     "output_type": "execute_result"
    }
   ],
   "source": [
    "no_ratings = []\n",
    "\n",
    "for i in range(0, 15532):\n",
    "    if i not in movie_c.categories:\n",
    "        no_ratings.append(i)\n",
    "        \n",
    "no_ratings"
   ]
  },
  {
   "cell_type": "markdown",
   "metadata": {},
   "source": [
    "### Remove rating > 5"
   ]
  },
  {
   "cell_type": "code",
   "execution_count": 9,
   "metadata": {
    "scrolled": true
   },
   "outputs": [
    {
     "data": {
      "text/plain": [
       "5.0"
      ]
     },
     "execution_count": 9,
     "metadata": {},
     "output_type": "execute_result"
    }
   ],
   "source": [
    "sparse_matrix.max()"
   ]
  },
  {
   "cell_type": "code",
   "execution_count": 10,
   "metadata": {},
   "outputs": [],
   "source": [
    "sparse_matrix[sparse_matrix > 5.0] = 0"
   ]
  },
  {
   "cell_type": "code",
   "execution_count": 11,
   "metadata": {},
   "outputs": [
    {
     "data": {
      "text/plain": [
       "5.0"
      ]
     },
     "execution_count": 11,
     "metadata": {},
     "output_type": "execute_result"
    }
   ],
   "source": [
    "sparse_matrix.max()"
   ]
  },
  {
   "cell_type": "markdown",
   "metadata": {},
   "source": [
    "### Normalize"
   ]
  },
  {
   "cell_type": "markdown",
   "metadata": {
    "scrolled": true
   },
   "source": [
    "sparse_matrix = sparse_matrix.multiply(0.2)"
   ]
  },
  {
   "cell_type": "markdown",
   "metadata": {},
   "source": [
    "## Save sparse CSR"
   ]
  },
  {
   "cell_type": "code",
   "execution_count": 12,
   "metadata": {},
   "outputs": [],
   "source": [
    "# Save it\n",
    "import pickle\n",
    "\n",
    "filename = \"ratings.csr\"\n",
    "pickle.dump(sparse_matrix, open(filename, 'wb'))"
   ]
  },
  {
   "cell_type": "markdown",
   "metadata": {},
   "source": [
    "---"
   ]
  },
  {
   "cell_type": "markdown",
   "metadata": {},
   "source": [
    "## Make Dataframe version"
   ]
  },
  {
   "cell_type": "code",
   "execution_count": null,
   "metadata": {},
   "outputs": [],
   "source": [
    "ratings_pivot = pd.SparseDataFrame(sparse_matrix,\n",
    "                         index=user_c.categories,\n",
    "                         columns=movie_c.categories,\n",
    "                         default_fill_value=0)"
   ]
  },
  {
   "cell_type": "code",
   "execution_count": null,
   "metadata": {},
   "outputs": [],
   "source": [
    "ratings_pivot.head()"
   ]
  },
  {
   "cell_type": "markdown",
   "metadata": {},
   "source": [
    "## Save dataframe"
   ]
  },
  {
   "cell_type": "code",
   "execution_count": null,
   "metadata": {},
   "outputs": [],
   "source": [
    "# Save it\n",
    "import pickle\n",
    "\n",
    "filename = MOVIELENS_DATASET + \"ratings.df\"\n",
    "pickle.dump(ratings_pivot, open(filename, 'wb'))"
   ]
  }
 ],
 "metadata": {
  "kernelspec": {
   "display_name": "Python 3",
   "language": "python",
   "name": "python3"
  },
  "language_info": {
   "codemirror_mode": {
    "name": "ipython",
    "version": 3
   },
   "file_extension": ".py",
   "mimetype": "text/x-python",
   "name": "python",
   "nbconvert_exporter": "python",
   "pygments_lexer": "ipython3",
   "version": "3.5.2"
  },
  "varInspector": {
   "cols": {
    "lenName": 16,
    "lenType": 16,
    "lenVar": 40
   },
   "kernels_config": {
    "python": {
     "delete_cmd_postfix": "",
     "delete_cmd_prefix": "del ",
     "library": "var_list.py",
     "varRefreshCmd": "print(var_dic_list())"
    },
    "r": {
     "delete_cmd_postfix": ") ",
     "delete_cmd_prefix": "rm(",
     "library": "var_list.r",
     "varRefreshCmd": "cat(var_dic_list()) "
    }
   },
   "types_to_exclude": [
    "module",
    "function",
    "builtin_function_or_method",
    "instance",
    "_Feature"
   ],
   "window_display": false
  }
 },
 "nbformat": 4,
 "nbformat_minor": 2
}

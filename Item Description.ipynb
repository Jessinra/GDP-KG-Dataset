{
 "cells": [
  {
   "cell_type": "code",
   "execution_count": 1,
   "metadata": {},
   "outputs": [],
   "source": [
    "import pandas as pd\n",
    "import numpy as np\n",
    "import pickle\n",
    "import matplotlib.pyplot as plt"
   ]
  },
  {
   "cell_type": "code",
   "execution_count": 2,
   "metadata": {},
   "outputs": [],
   "source": [
    "movies = open(\"moviesIdx.txt\").readlines()\n",
    "ratings = pickle.load(open(\"ratings.csr\", 'rb'))"
   ]
  },
  {
   "cell_type": "code",
   "execution_count": 3,
   "metadata": {},
   "outputs": [],
   "source": [
    "def describe(item):\n",
    "    display(get_title(item))\n",
    "    rating_by_people = people_rated_for(item)\n",
    "    \n",
    "    display(\"{} people rated with average: {}\".format(len(rating_by_people), get_average_rating(rating_by_people)))\n",
    "    print(\"Sample rating : \")\n",
    "    display(rating_by_people[::5][:20])\n",
    "\n",
    "def people_rated_for(item):\n",
    "    users = ratings[:, item].nonzero()[0]\n",
    "    return [(user, get_rating(user, item)) for user in users]\n",
    "\n",
    "def get_average_rating(user_ratings):\n",
    "    n = 0\n",
    "    for rating in user_ratings:\n",
    "        n += rating[1]\n",
    "    return n / len(user_ratings)\n",
    "\n",
    "def get_rating(user, item):\n",
    "    return ratings[user, item].item()\n",
    "\n",
    "def get_title(item):\n",
    "    return dict_entities[str(item)]"
   ]
  },
  {
   "cell_type": "code",
   "execution_count": 4,
   "metadata": {},
   "outputs": [],
   "source": [
    "dict_entities = {}\n",
    "for movie in movies:\n",
    "    x = movie.strip().split()\n",
    "    movie_id = x[0]\n",
    "    movie_name = x[1].replace('http://dbpedia.org/resource/', '').replace(\"_\", \" \")\n",
    "    dict_entities[movie_id] = movie_name"
   ]
  },
  {
   "cell_type": "code",
   "execution_count": 10,
   "metadata": {},
   "outputs": [
    {
     "data": {
      "text/plain": [
       "'Braveheart (1925 film)'"
      ]
     },
     "metadata": {},
     "output_type": "display_data"
    },
    {
     "data": {
      "text/plain": [
       "'53769 people rated with average: 4.042533802004873'"
      ]
     },
     "metadata": {},
     "output_type": "display_data"
    },
    {
     "name": "stdout",
     "output_type": "stream",
     "text": [
      "Sample rating : \n"
     ]
    },
    {
     "data": {
      "text/plain": [
       "[(1, 4.0),\n",
       " (12, 5.0),\n",
       " (24, 3.5),\n",
       " (34, 4.5),\n",
       " (54, 4.0),\n",
       " (65, 5.0),\n",
       " (72, 5.0),\n",
       " (87, 2.5),\n",
       " (126, 5.0),\n",
       " (134, 3.5),\n",
       " (146, 3.0),\n",
       " (159, 3.0),\n",
       " (183, 5.0),\n",
       " (199, 4.0),\n",
       " (213, 3.0),\n",
       " (224, 1.0),\n",
       " (234, 5.0),\n",
       " (241, 5.0),\n",
       " (250, 5.0),\n",
       " (260, 4.0)]"
      ]
     },
     "metadata": {},
     "output_type": "display_data"
    }
   ],
   "source": [
    "describe(2073)"
   ]
  },
  {
   "cell_type": "code",
   "execution_count": null,
   "metadata": {},
   "outputs": [],
   "source": []
  }
 ],
 "metadata": {
  "kernelspec": {
   "display_name": "Python 3",
   "language": "python",
   "name": "python3"
  },
  "language_info": {
   "codemirror_mode": {
    "name": "ipython",
    "version": 3
   },
   "file_extension": ".py",
   "mimetype": "text/x-python",
   "name": "python",
   "nbconvert_exporter": "python",
   "pygments_lexer": "ipython3",
   "version": "3.5.2"
  }
 },
 "nbformat": 4,
 "nbformat_minor": 2
}
